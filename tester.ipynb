{
 "cells": [
  {
   "cell_type": "code",
   "execution_count": 21,
   "metadata": {
    "collapsed": true
   },
   "outputs": [],
   "source": [
    "import requests\n",
    "from bs4 import BeautifulSoup as bs\n",
    "from pprint import pprint"
   ]
  },
  {
   "cell_type": "code",
   "execution_count": 55,
   "outputs": [],
   "source": [
    "def get_text_title(url:str)->[str,str]:\n",
    "    req = requests.get(url)\n",
    "    if (req.status_code != 200):\n",
    "        print('error')\n",
    "        raise Exception(f\"Error getting text and title from {url} with status code {req.status_code}\")\n",
    "    soup = bs(req.text, 'html.parser')\n",
    "    if 'klerk.ru' in url:\n",
    "        content_div = soup.find_all('div', 'article__content')\n",
    "        print(content_div)\n",
    "\n"
   ],
   "metadata": {
    "collapsed": false
   }
  },
  {
   "cell_type": "code",
   "execution_count": 56,
   "outputs": [
    {
     "name": "stdout",
     "output_type": "stream",
     "text": [
      "[<div class=\"article__content\" v-watch=\" { conditions: { timer: 15000, scroll: 100 }, meta: { statistic: 'hasBeenRead', id: 529894 } } \">\n",
      "\tВ начале апреля этого года стало известно, что российский суд впервые наложил арест на украденную криптовалюту. Это сделал Санкт-Петербургский районный суд. В деле речь идет о криптовалюте <em><strong>Ethereum (ЕТН)</strong></em>, которую, как полагают следователи, похитили у законного владельца. Суд разрешил следователю наложить арест на Ethereum, содержащийся на 24 кошельках обвиняемого в краже.</p>нные для контроля и отслеживания таких операций.</p><blockquote><p>рпоративной сфере.</p><h2>\n",
      "</div>, <div class=\"article__content\" style=\"margin-top: 32px;\">\n",
      "<article class=\"advertising-text-block\"> <div class=\"advertising-text-block__info\" style=\"background-color: #B47BCB; display: flex;flex-direction: column;align-items: center;border: 3px solid #905E96;color: #000000;\"><div class=\"advertising-text-block__text\"><div class=\"advertising-text-block__text-wrap\" style=\"padding-left: 8px; padding-right: 8px;\"><h3 class=\"advertising-text-block__title\" style=\"font-size: 22px; line-height: 30px; margin-top: 0px;\">\r\n",
      "Бухгалтеры, переучивайтесь на маркетологов и зарабатывайте от 70 000 рублей!\r\n",
      "</h3>\n",
      "<p class=\"advertising-text-block__description\">\r\n",
      "Освойте актуальную и прибыльную профессию в 2023 году. Маркетологи нужны каждому бизнесу — вы будете приносить доход и станете ценным сотрудником.\r\n",
      "</p>\n",
      "<p class=\"advertising-text-block__description\">\n",
      "<p class=\"advertising-text-block__description\">\r\n",
      "Мы выпустили новый курс профпереподготовки и за два месяца сделаем из вас маркетолога. Коротко о том, что будете уметь:\r\n",
      "</p>\n",
      "<p class=\"advertising-text-block__description\">\r\n",
      "    • анализировать целевую аудиторию и конкурентов; <br>\r\n",
      "    • разрабатывать маркетинговую стратегию; <br>\r\n",
      "    • строить продуктовые гипотезы. <br>\n",
      "</br></br></br></p>\n",
      "<p class=\"advertising-text-block__description\">\r\n",
      "По выгодной цене курс стоит 49 990₽. Вы получите красный диплом с внесением в ФИС ФРДО. <strong><a href=\"https://edu.klerk.ru/marketer/?utm_source=klerk&amp;utm_medium=post_27&amp;utm_campaign=kpkUnderArticle&amp;utm_content=kpk_mrket&amp;utm_term=05_10_2022\" style=\"color: #316FEE;text-decoration:underline;\">Смотрите программу курса здесь</a></strong> или заполняйте форму ниже — расскажем больше. \r\n",
      "</p></p></div></div>\n",
      "<lead-form :additional-data=\"{bitrix: 'лид-форма под статьей «Заявка - КПК «Интернет-маркетолог с нуля»»'}\" partner=\"lead_klerk\" product=\"learn_article\" style=\"width:100%;\"></lead-form>\n",
      "</div>\n",
      "</article>\n",
      "</div>]\n"
     ]
    }
   ],
   "source": [
    "get_text_title('https://www.klerk.ru/buh/articles/529894/')"
   ],
   "metadata": {
    "collapsed": false
   }
  }
 ],
 "metadata": {
  "kernelspec": {
   "display_name": "Python 3",
   "language": "python",
   "name": "python3"
  },
  "language_info": {
   "codemirror_mode": {
    "name": "ipython",
    "version": 2
   },
   "file_extension": ".py",
   "mimetype": "text/x-python",
   "name": "python",
   "nbconvert_exporter": "python",
   "pygments_lexer": "ipython2",
   "version": "2.7.6"
  }
 },
 "nbformat": 4,
 "nbformat_minor": 0
}
